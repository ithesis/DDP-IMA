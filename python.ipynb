{
 "cells": [
  {
   "cell_type": "code",
   "execution_count": 8,
   "id": "4233c40e",
   "metadata": {},
   "outputs": [
    {
     "name": "stdout",
     "output_type": "stream",
     "text": [
      "6 2\n"
     ]
    }
   ],
   "source": [
    "str1 = \"Hello Dan\"\n",
    "lowercase = 0\n",
    "uppercase = 0\n",
    "for strs in list(str1) : \n",
    "    if strs.islower():\n",
    "        lowercase += 1\n",
    "    elif strs.isupper():\n",
    "        uppercase +=1\n",
    "print (lowercase, uppercase)"
   ]
  },
  {
   "cell_type": "code",
   "execution_count": 9,
   "id": "59551f39",
   "metadata": {},
   "outputs": [
    {
     "name": "stdout",
     "output_type": "stream",
     "text": [
      "(['H', 'E', 'L', 'O', 'D', 'A', 'N'], 7)\n"
     ]
    }
   ],
   "source": [
    "input = \"hello Dan\"\n",
    "def unique_letters(input):\n",
    "   res = []\n",
    "   for letter in input:\n",
    "       if not letter.isalpha():\n",
    "           continue\n",
    "       if letter.upper() not in res and letter.lower() not in res:\n",
    "           res.append(letter.upper())\n",
    "   \n",
    "   return res, len(res)\n",
    "\n",
    "print(unique_letters(input))"
   ]
  },
  {
   "cell_type": "code",
   "execution_count": null,
   "id": "306854cb",
   "metadata": {},
   "outputs": [],
   "source": []
  }
 ],
 "metadata": {
  "kernelspec": {
   "display_name": "Python 3 (ipykernel)",
   "language": "python",
   "name": "python3"
  },
  "language_info": {
   "codemirror_mode": {
    "name": "ipython",
    "version": 3
   },
   "file_extension": ".py",
   "mimetype": "text/x-python",
   "name": "python",
   "nbconvert_exporter": "python",
   "pygments_lexer": "ipython3",
   "version": "3.9.7"
  }
 },
 "nbformat": 4,
 "nbformat_minor": 5
}
